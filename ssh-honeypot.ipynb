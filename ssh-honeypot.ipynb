{
 "cells": [
  {
   "cell_type": "code",
   "execution_count": 9,
   "id": "b1e5c00a",
   "metadata": {},
   "outputs": [],
   "source": [
    "import re\n",
    "import requests\n",
    "import json\n",
    "import numpy as np\n",
    "import pandas as pd\n",
    "import matplotlib.pyplot as plt\n",
    "import matplotlib.dates as mdates\n",
    "from matplotlib.pyplot import figure\n",
    "from datetime import datetime"
   ]
  },
  {
   "cell_type": "code",
   "execution_count": 10,
   "id": "67f1cab4",
   "metadata": {},
   "outputs": [],
   "source": [
    "# ------------------Import File------------------\n",
    "lines = None\n",
    "with open(\"ssh-honeypot.log\", \"r\") as f:\n",
    "    lines = f.read().splitlines()"
   ]
  },
  {
   "cell_type": "code",
   "execution_count": 11,
   "id": "55a3ce80",
   "metadata": {},
   "outputs": [],
   "source": [
    "# --------------Create usable data---------------\n",
    "pattern = r\"(?<=\\[).+?(?=\\])\"\n",
    "data = []\n",
    "for line in lines:\n",
    "    try:\n",
    "        dateStr = re.findall(pattern, line)[0].split(\" \", 1)[1]\n",
    "    except IndexError:\n",
    "        # if someone used some weird special char\n",
    "        continue\n",
    "    dateTimeObj = datetime.strptime(dateStr, '%b %d %H:%M:%S %Y')\n",
    "    \n",
    "    otherStuffStr = line.split(\"] \", 1)[1]\n",
    "    if otherStuffStr[0].isnumeric():\n",
    "        splitList = otherStuffStr.split(\" \")\n",
    "        try:\n",
    "            ipStr = splitList[0]\n",
    "            username = splitList[1]\n",
    "            password = splitList[2]\n",
    "        except IndexError:\n",
    "            # if someone used some weird special char\n",
    "            continue\n",
    "        \n",
    "        tempList = [dateTimeObj, ipStr, username, password]\n",
    "        data.append(tempList)"
   ]
  },
  {
   "cell_type": "code",
   "execution_count": 4,
   "id": "941ca353",
   "metadata": {},
   "outputs": [],
   "source": [
    "# -----------Create pandas dataframe-------------\n",
    "df = pd.DataFrame(data, columns = ['Time' , 'IP', 'Username' , 'Password'])"
   ]
  },
  {
   "cell_type": "code",
   "execution_count": 5,
   "id": "d156801f",
   "metadata": {},
   "outputs": [
    {
     "data": {
      "image/png": "[encoded data removed]",
      "text/plain": [
       "<Figure size 432x288 with 1 Axes>"
      ]
     },
     "metadata": {
      "needs_background": "light"
     },
     "output_type": "display_data"
    }
   ],
   "source": [
    "# ---------------Visualize stuff-----------------\n",
    "plt.plot(df[\"Time\"],[i for i in range(len(df[\"Time\"]))]);\n",
    "plt.xlabel(\"Days\")\n",
    "plt.ylabel(\"Tries\");\n",
    "#lt.savefig(\"images/requestDistribution.jpg\", dpi=300)"
   ]
  },
  {
   "cell_type": "code",
   "execution_count": 8,
   "id": "3112c004",
   "metadata": {},
   "outputs": [
    {
     "data": {
      "image/png": "[encoded data removed]",
      "text/plain": [
       "<Figure size 720x216 with 1 Axes>"
      ]
     },
     "metadata": {
      "needs_background": "light"
     },
     "output_type": "display_data"
    }
   ],
   "source": [
    "fig, ax = plt.subplots()\n",
    "hours = mdates.HourLocator(interval = 6)\n",
    "h_fmt = mdates.DateFormatter(\"%H:%M\")\n",
    "plt.rcParams[\"figure.figsize\"] = (10,3)\n",
    "plt.hist(df[\"Time\"], bins=100);\n",
    "fig.autofmt_xdate()\n",
    "plt.xlabel(\"Hours\")\n",
    "plt.ylabel(\"Tries\")\n",
    "ax.xaxis.set_major_locator(hours)\n",
    "ax.xaxis.set_major_formatter(h_fmt)\n",
    "#plt.savefig(\"images/requestOverDays.jpg\", dpi=300)"
   ]
  },
  {
   "cell_type": "code",
   "execution_count": 7,
   "id": "9428d383",
   "metadata": {},
   "outputs": [],
   "source": [
    "passwords = df[\"Password\"].value_counts()\n",
    "passwords.to_json(\"passwordCount.json\")"
   ]
  },
  {
   "cell_type": "code",
   "execution_count": null,
   "id": "909ade68",
   "metadata": {},
   "outputs": [],
   "source": []
  }
 ],
 "metadata": {
  "kernelspec": {
   "display_name": "Python 3",
   "language": "python",
   "name": "python3"
  },
  "language_info": {
   "codemirror_mode": {
    "name": "ipython",
    "version": 3
   },
   "file_extension": ".py",
   "mimetype": "text/x-python",
   "name": "python",
   "nbconvert_exporter": "python",
   "pygments_lexer": "ipython3",
   "version": "3.8.8"
  }
 },
 "nbformat": 4,
 "nbformat_minor": 5
}
